{
 "cells": [
  {
   "cell_type": "code",
   "execution_count": 16,
   "metadata": {},
   "outputs": [
    {
     "name": "stdout",
     "output_type": "stream",
     "text": [
      "24995000\n"
     ]
    }
   ],
   "source": [
    "sum1 = 0\n",
    "a=[i*2 for i in range(1,5000)]\n",
    "for j in range(4999):\n",
    "    sum1 = sum1+a[j]\n",
    "    j=j+1\n",
    "print(sum1)"
   ]
  },
  {
   "cell_type": "code",
   "execution_count": 17,
   "metadata": {},
   "outputs": [
    {
     "name": "stdout",
     "output_type": "stream",
     "text": [
      "4160835\n"
     ]
    }
   ],
   "source": [
    "sum1 = 0\n",
    "a=[i*3 for i in range(1,5000)]\n",
    "for j in range(1665):\n",
    "    sum1 = sum1+a[j]\n",
    "    j=j+1\n",
    "print(sum1)"
   ]
  },
  {
   "cell_type": "code",
   "execution_count": 18,
   "metadata": {},
   "outputs": [
    {
     "name": "stdout",
     "output_type": "stream",
     "text": [
      "3122500\n"
     ]
    }
   ],
   "source": [
    "sum1 = 0\n",
    "a=[i*4 for i in range(1,5000)]\n",
    "for j in range(1249):\n",
    "    sum1 = sum1+a[j]\n",
    "    j=j+1\n",
    "print(sum1)"
   ]
  },
  {
   "cell_type": "code",
   "execution_count": 20,
   "metadata": {},
   "outputs": [
    {
     "name": "stdout",
     "output_type": "stream",
     "text": [
      "2497500\n"
     ]
    }
   ],
   "source": [
    "sum1 = 0\n",
    "a=[i*5 for i in range(1,5000)]\n",
    "for j in range(999):\n",
    "    sum1 = sum1+a[j]\n",
    "    j=j+1\n",
    "print(sum1)"
   ]
  },
  {
   "cell_type": "code",
   "execution_count": 27,
   "metadata": {},
   "outputs": [
    {
     "name": "stdout",
     "output_type": "stream",
     "text": [
      "                                  2020\n",
      "\n",
      "      January                   February                   March\n",
      "Mo Tu We Th Fr Sa Su      Mo Tu We Th Fr Sa Su      Mo Tu We Th Fr Sa Su\n",
      "       1  2  3  4  5                      1  2                         1\n",
      " 6  7  8  9 10 11 12       3  4  5  6  7  8  9       2  3  4  5  6  7  8\n",
      "13 14 15 16 17 18 19      10 11 12 13 14 15 16       9 10 11 12 13 14 15\n",
      "20 21 22 23 24 25 26      17 18 19 20 21 22 23      16 17 18 19 20 21 22\n",
      "27 28 29 30 31            24 25 26 27 28 29         23 24 25 26 27 28 29\n",
      "                                                    30 31\n",
      "\n",
      "       April                      May                       June\n",
      "Mo Tu We Th Fr Sa Su      Mo Tu We Th Fr Sa Su      Mo Tu We Th Fr Sa Su\n",
      "       1  2  3  4  5                   1  2  3       1  2  3  4  5  6  7\n",
      " 6  7  8  9 10 11 12       4  5  6  7  8  9 10       8  9 10 11 12 13 14\n",
      "13 14 15 16 17 18 19      11 12 13 14 15 16 17      15 16 17 18 19 20 21\n",
      "20 21 22 23 24 25 26      18 19 20 21 22 23 24      22 23 24 25 26 27 28\n",
      "27 28 29 30               25 26 27 28 29 30 31      29 30\n",
      "\n",
      "        July                     August                  September\n",
      "Mo Tu We Th Fr Sa Su      Mo Tu We Th Fr Sa Su      Mo Tu We Th Fr Sa Su\n",
      "       1  2  3  4  5                      1  2          1  2  3  4  5  6\n",
      " 6  7  8  9 10 11 12       3  4  5  6  7  8  9       7  8  9 10 11 12 13\n",
      "13 14 15 16 17 18 19      10 11 12 13 14 15 16      14 15 16 17 18 19 20\n",
      "20 21 22 23 24 25 26      17 18 19 20 21 22 23      21 22 23 24 25 26 27\n",
      "27 28 29 30 31            24 25 26 27 28 29 30      28 29 30\n",
      "                          31\n",
      "\n",
      "      October                   November                  December\n",
      "Mo Tu We Th Fr Sa Su      Mo Tu We Th Fr Sa Su      Mo Tu We Th Fr Sa Su\n",
      "          1  2  3  4                         1          1  2  3  4  5  6\n",
      " 5  6  7  8  9 10 11       2  3  4  5  6  7  8       7  8  9 10 11 12 13\n",
      "12 13 14 15 16 17 18       9 10 11 12 13 14 15      14 15 16 17 18 19 20\n",
      "19 20 21 22 23 24 25      16 17 18 19 20 21 22      21 22 23 24 25 26 27\n",
      "26 27 28 29 30 31         23 24 25 26 27 28 29      28 29 30 31\n",
      "                          30\n",
      "\n"
     ]
    }
   ],
   "source": [
    "    import calendar\n",
    "    import locale\n",
    "    textcal=calendar.TextCalendar()\n",
    "    textcal.pryear(2020)"
   ]
  },
  {
   "cell_type": "code",
   "execution_count": 24,
   "metadata": {
    "scrolled": true
   },
   "outputs": [
    {
     "name": "stdout",
     "output_type": "stream",
     "text": [
      "1 * 1 = 1\t \n",
      "2 * 1 = 2\t2 * 2 = 4\t \n",
      "3 * 1 = 3\t3 * 2 = 6\t3 * 3 = 9\t \n",
      "4 * 1 = 4\t4 * 2 = 8\t4 * 3 = 12\t4 * 4 = 16\t \n",
      "5 * 1 = 5\t5 * 2 = 10\t5 * 3 = 15\t5 * 4 = 20\t5 * 5 = 25\t \n",
      "6 * 1 = 6\t6 * 2 = 12\t6 * 3 = 18\t6 * 4 = 24\t6 * 5 = 30\t6 * 6 = 36\t \n",
      "7 * 1 = 7\t7 * 2 = 14\t7 * 3 = 21\t7 * 4 = 28\t7 * 5 = 35\t7 * 6 = 42\t7 * 7 = 49\t \n",
      "8 * 1 = 8\t8 * 2 = 16\t8 * 3 = 24\t8 * 4 = 32\t8 * 5 = 40\t8 * 6 = 48\t8 * 7 = 56\t8 * 8 = 64\t \n",
      "9 * 1 = 9\t9 * 2 = 18\t9 * 3 = 27\t9 * 4 = 36\t9 * 5 = 45\t9 * 6 = 54\t9 * 7 = 63\t9 * 8 = 72\t9 * 9 = 81\t \n"
     ]
    }
   ],
   "source": [
    "for i in range(1,10):\n",
    "    for j in range(1,i+1):\n",
    "        print(i,'*',j,'=',i*j,end='\\t')\n",
    "    print(' ')"
   ]
  },
  {
   "cell_type": "code",
   "execution_count": null,
   "metadata": {
    "collapsed": true
   },
   "outputs": [],
   "source": [
    "import os\n",
    " \n",
    "\n",
    "list=[]\n",
    "list1=[]\n",
    "for i in range(50):\n",
    "    list.append('test')\n",
    "for j in range(50):\n",
    "    str(j)\n",
    "    list1.append(j)\n",
    "for k in range(50):\n",
    "    list[k]=list[k]+str(list1[k])\n",
    "\n",
    "\n",
    "print(os.getcwd())\n",
    "for i in range(50):\n",
    "    os.mkdir(list[i])"
   ]
  },
  {
   "cell_type": "code",
   "execution_count": null,
   "metadata": {
    "collapsed": true
   },
   "outputs": [],
   "source": [
    "list=[]\n",
    "for i in range(256):\n",
    "    list.append(chr(i))\n",
    "for j in range(20):\n",
    "    print(list[j],end=' ')\n",
    "    j+=1\n",
    "print(' ')\n",
    "for j in range(20,40):\n",
    "    print(list[j],end=' ')\n",
    "    j+=1\n",
    "print(' ')\n",
    "for j in range(40,60):\n",
    "    print(list[j],end=' ')\n",
    "    j+=1\n",
    "print(' ')\n",
    "for j in range(60,80):\n",
    "    print(list[j],end=' ')\n",
    "    j+=1\n",
    "print(' ')\n",
    "for j in range(80,100):\n",
    "    print(list[j],end=' ')\n",
    "    j+=1\n",
    "print(' ')\n",
    "for j in range(100,120):\n",
    "    print(list[j],end=' ')\n",
    "    j+=1\n",
    "print(' ')\n",
    "for j in range(120,140):\n",
    "    print(list[j],end=' ')\n",
    "    j+=1\n",
    "print(' ')\n",
    "for j in range(140,160):\n",
    "    print(list[j],end=' ')\n",
    "    j+=1\n",
    "print(' ')\n",
    "for j in range(160,180):\n",
    "    print(list[j],end=' ')\n",
    "    j+=1\n",
    "print(' ')\n",
    "for j in range(180,200):\n",
    "    print(list[j],end=' ')\n",
    "    j+=1\n",
    "print(' ')\n",
    "for j in range(200,220):\n",
    "    print(list[j],end=' ')\n",
    "    j+=1\n",
    "print(' ')\n",
    "for j in range(220,240):\n",
    "    print(list[j],end=' ')\n",
    "    j+=1\n",
    "print(' ')\n",
    "for j in range(240,256):\n",
    "    print(list[j],end=' ')\n",
    "    j+=1\n",
    "print(' ')"
   ]
  }
 ],
 "metadata": {
  "kernelspec": {
   "display_name": "Python 3",
   "language": "python",
   "name": "python3"
  },
  "language_info": {
   "codemirror_mode": {
    "name": "ipython",
    "version": 3
   },
   "file_extension": ".py",
   "mimetype": "text/x-python",
   "name": "python",
   "nbconvert_exporter": "python",
   "pygments_lexer": "ipython3",
   "version": "3.6.3"
  }
 },
 "nbformat": 4,
 "nbformat_minor": 2
}
